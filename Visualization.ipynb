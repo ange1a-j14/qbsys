{
 "cells": [
  {
   "cell_type": "code",
   "execution_count": 2,
   "metadata": {},
   "outputs": [],
   "source": [
    "import numpy as np\n",
    "from numpy.random import default_rng\n",
    "import math\n",
    "from math import ceil, log\n",
    "from numpy import e\n",
    "from mpl_toolkits import mplot3d\n",
    "import matplotlib.pyplot as plt\n",
    "from matplotlib import cm\n",
    "from matplotlib.ticker import LinearLocator"
   ]
  },
  {
   "cell_type": "code",
   "execution_count": 3,
   "metadata": {},
   "outputs": [],
   "source": [
    "def psi1(t, c1, c2, c3, c4, epsilon, delta, chi):\n",
    "    return c1*epsilon*e**(-t*squareroot(epsilon, delta, chi)/2)/(delta + 2*chi) + \\\n",
    "    c2*epsilon*t*e**(-t*squareroot(epsilon, delta, chi)/2)/(delta + 2*chi) + \\\n",
    "    c2*squareroot(epsilon, delta, chi)*e**(-t*squareroot(epsilon, delta, chi)/2)/(delta + 2*chi) + \\\n",
    "    c3*epsilon*e**(t*squareroot(epsilon, delta, chi)/2)/(delta + 2*chi) + \\\n",
    "    c4*epsilon*t*e**(t*squareroot(epsilon, delta, chi)/2)/(delta + 2*chi) + \\\n",
    "    c4*(delta**2 + 2*delta*chi + epsilon**2)*e**(t*squareroot(epsilon, delta, chi)/2) \\\n",
    "    /((delta + 2*chi)*squareroot(epsilon, delta, chi))\n",
    "    \n",
    "def psi2(t, c1, c2, c3, c4, epsilon, delta, chi):\n",
    "    return -c1*squareroot(epsilon, delta, chi)*e**(-t*squareroot(epsilon, delta, chi)/2)/(delta + 2*chi) + \\\n",
    "    c2*epsilon*e**(-t*squareroot(epsilon, delta, chi)/2)/(delta + 2*chi) - \\\n",
    "    c2*t*squareroot(epsilon, delta, chi)*e**(-t*squareroot(epsilon, delta, chi)/2)/(delta + 2*chi) + \\\n",
    "    c3*squareroot(epsilon, delta, chi)*e**(t*squareroot(epsilon, delta, chi)/2)/(delta + 2*chi) + \\\n",
    "    c4*epsilon*e**(t*squareroot(epsilon, delta, chi)/2)/(delta + 2*chi) + \\\n",
    "    c4*t*squareroot(epsilon, delta, chi)*e**(t*squareroot(epsilon, delta, chi)/2)/(delta + 2*chi)\n",
    "    \n",
    "def phi1(t, c1, c2, c3, c4, epsilon, delta, chi):\n",
    "    return c1*e**(-t*squareroot(epsilon, delta, chi)/2) + \\\n",
    "    c2*t*e**(-t*squareroot(epsilon, delta, chi)/2) + \\\n",
    "    c3*e**(t*squareroot(epsilon, delta, chi)/2) + \\\n",
    "    c4*t*e**(t*squareroot(epsilon, delta, chi)/2)\n",
    "\n",
    "def phi2(t, c2, c4, epsilon, delta, chi):\n",
    "    return c2*e**(-t*squareroot(epsilon, delta, chi)/2) + \\\n",
    "    c4*e**(t*squareroot(epsilon, delta, chi)/2)\n",
    "\n",
    "def check_sqrt(epsilon, delta, chi):\n",
    "    return -delta**2 - 2*delta*chi - epsilon**2 < 0\n",
    "\n",
    "def squareroot(epsilon, delta, chi):\n",
    "    result = -delta**2 - 2*delta*chi - epsilon**2\n",
    "    return math.sqrt(result)\n",
    "\n",
    "def func(xp):\n",
    "    return (abs(psi1(xp[0], xp[1], xp[2], xp[3], xp[4], xp[5], xp[6], xp[7])))**2 + \\\n",
    "            (abs(psi2(xp[0], xp[1], xp[2], xp[3], xp[4], xp[5], xp[6], xp[7])))**2 + \\\n",
    "            (abs(phi1(xp[0], xp[1], xp[2], xp[3], xp[4], xp[5], xp[6], xp[7])))**2 + \\\n",
    "            (abs(phi2(xp[0], xp[2], xp[4], xp[5], xp[6], xp[7])))**2"
   ]
  },
  {
   "cell_type": "code",
   "execution_count": 27,
   "metadata": {},
   "outputs": [
    {
     "name": "stdout",
     "output_type": "stream",
     "text": [
      "20\n",
      "20\n",
      "40\n",
      "60\n",
      "80\n",
      "100\n",
      "120\n",
      "140\n",
      "160\n",
      "180\n",
      "200\n",
      "220\n",
      "240\n",
      "260\n",
      "280\n",
      "300\n",
      "320\n",
      "340\n",
      "360\n",
      "380\n",
      "400\n",
      "[0.7670691278323817, 1.238808887276082, 2.0519891235590024, 3.206609836681146, 4.702671026642505, 6.540172693443088, 8.719114837082891, 11.239497457561923, 14.101320554880163, 17.304584129037618, 20.84928818003431, 24.735432707870217, 28.96301771254535, 33.532043194059696, 38.442509152413244, 43.69441558760605, 49.28776249963804, 55.222549888509256, 61.49877775421972, 68.11644609676938, 0.792576021931349, 1.2981218431069146, 2.1451081411216997, 3.333534915975708, 4.863402167668932, 6.73470989620138, 8.94745810157305, 11.501646783783944, 14.397275942834048, 17.63434557872337, 21.212855691451928, 25.13280628101969, 29.394197347426704, 33.997028890672894, 38.94130091075833, 44.22701340768298, 49.85416638144686, 55.82275983204995, 62.132793759492266, 68.78426816377379, 0.8214635297454658, 1.3608154126528964, 2.241607772399547, 3.4638406089854215, 5.0275139224105105, 6.932627712674823, 9.179181979778358, 11.76717672372112, 14.696611944503088, 17.967487642124276, 21.579803816584697, 25.53356046788433, 29.828757596023202, 34.46539520100127, 39.44347328281855, 44.76299184147509, 50.423950876970814, 56.42635038930576, 62.770190378479946, 69.45547084449335, 0.8537316512747316, 1.4268895959140275, 2.3414880173925434, 3.597526915710283, 5.195006290867236, 7.133926142863416, 9.414286471698816, 12.03608727737344, 14.999328559887276, 18.304010319240327, 21.950132555432614, 25.93769526846411, 30.266698458334858, 34.93714212504478, 39.94902626859394, 45.302350888982325, 50.997115986209934, 57.03332156027675, 63.410967611182805, 70.13005413892806, 0.889380386519146, 1.496344392890307, 2.4447488761006877, 3.7345938361502915, 5.36587927303911, 7.338605186767154, 9.652771577334418, 12.308378444740908, 15.305425788986609, 18.643913610071525, 22.323841907995675, 26.345210682759046, 30.708019934361644, 35.41226966280344, 40.457959868084444, 45.84509055020472, 51.57366170916418, 57.64367334496286, 64.05512545760075, 70.8080180470779, 0.9284097354787092, 1.5691798035817346, 2.55139034852398, 3.875041370305449, 5.540132868926132, 7.546664844386041, 9.89463729668517, 12.584050225823525, 15.61490363180109, 18.98719751461787, 22.700931874273884, 26.756106710769117, 31.152722024103582, 35.89077781427725, 40.970274081290114, 46.39121082514225, 52.15358804583357, 58.25740574336412, 64.70266391773389, 71.48936256894288, 0.9708196981534224, 1.6453958279883127, 2.6614124346624237, 4.018869518175757, 5.717767078528306, 7.758105115720079, 10.139883629751074, 12.863102620621293, 15.927762088330722, 19.33386203287937, 23.081402454267252, 27.17038335249434, 31.600804727560682, 36.3726665794662, 41.48596890821095, 46.94071171379493, 52.73689499621814, 58.87451875548056, 65.35358299158219, 72.17408770452305, 1.0166102745432846, 1.7249924661100402, 2.7748151345160155, 4.166078279761215, 5.898781901845629, 7.9729260007692675, 10.388510576532127, 13.145535629134214, 16.244001158575507, 19.683907164856016, 23.465253647975764, 27.58804060793473, 32.05226804473292, 36.85793595837032, 42.00504434884692, 47.493593216162786, 53.32358256031783, 59.495012381312115, 66.00788267914561, 72.86219345381834, 1.065781464648296, 1.807969717946917, 2.891598448084758, 4.316667655061822, 6.083177338878101, 8.191127499533605, 10.64051813702833, 13.43134925136228, 16.563620842535443, 20.037332910547814, 23.852485455399428, 28.00907847709025, 32.50711197562032, 37.34658595098957, 42.52750040319805, 48.04985533224576, 53.9136507381327, 60.11888662085884, 66.6655629804242, 73.5536798168288, 1.1183332684684566, 1.8943275834989426, 3.0117623753686487, 4.470637644077579, 6.270953389625722, 8.412709612013092, 10.895906311239681, 13.720543487305497, 16.886621140210522, 20.394139269954763, 24.243097876538233, 28.433496959960934, 32.96533652022285, 37.83861655732399, 43.053337071264316, 48.60949806204392, 54.50709952966268, 60.7461414741207, 67.32662389541792, 74.24854679355438, 1.1742656860037644, 1.9840660627661149, 3.1353069163676848, 4.627988246808479, 6.462110054088487, 8.637672338207722, 11.154675099166175, 14.013118336963855, 17.213002051600746, 20.75432624307685, 24.637090911392185, 28.86129605654675, 33.42694167854054, 38.33402777737353, 43.58255435304572, 49.172521405557184, 55.10392893490783, 61.376776941097695, 67.99106542412679, 74.94679438399511, 1.2335787172542232, 2.0771851557484386, 3.262232071081874, 4.788719463254534, 6.656647332266407, 8.866015678117506, 11.416824500807824, 14.30907380033737, 17.542763576706125, 21.117893829914095, 25.034464559961304, 29.292475766847716, 33.89192745057338, 38.83281961113822, 44.1151522485423, 49.73892536278561, 55.70413895386814, 62.01079302178987, 68.65888756655085, 75.64842258815102, 1.296272362219831, 2.1736848624459117, 3.392537839511212, 4.952831293415737, 6.854565224159475, 9.097739631742439, 11.682354516164624, 14.608409877426034, 17.875905715526656, 21.48484203046649, 25.435218822245556, 29.727036090863848, 34.36029383632137, 39.334992058618084, 44.65113075775401, 50.30870993372921, 56.30772958654358, 62.64818971619717, 69.33009032269001, 76.35343140602205, 1.3623466209005874, 2.2735651828585333, 3.526224221655699, 5.120323737292089, 7.055863729767692, 9.332844199082523, 11.95126514523657, 14.911126568229845, 18.212428468062335, 21.85517084473403, 25.839353698244974, 30.16497702859511, 34.83204083578451, 39.840545119813086, 45.19048988068089, 50.88187511838793, 56.91470083293419, 63.28896702431965, 70.00467369254434, 77.06182083760825, 1.431801493296494, 2.376826116986305, 3.6632912175153356, 5.29119679488359, 7.260542849091059, 9.571329380137755, 12.223556388023667, 15.217223872748809, 18.552331834313158, 22.228880272716722, 26.246869187959526, 30.60629858004154, 35.307168448962784, 40.34947879472325, 45.7332296173229, 51.45842091676182, 57.525052693039925, 63.93312494615726, 70.68263767611381, 77.77359088290959, 1.504636979407549, 2.4834676648292247, 3.80373882709012, 5.46545046619024, 7.468602582129573, 9.813195174908133, 12.499228244525911, 15.526701790982917, 18.895615814279136, 22.605970314414563, 26.657765291389236, 31.051000745203105, 35.78567667585624, 40.86179308334853, 46.279349967680076, 52.03834732885084, 58.13878516686083, 64.58066348171003, 71.36398227339845, 78.48874154192609, 1.5808530792337516, 2.5934898263872923, 3.9475670503800524, 5.643084751212037, 7.680042928883235, 10.058441583393659, 12.778280714743302, 15.839560322932174, 19.24228040796025, 22.986440969827548, 27.07204200853408, 31.499083524079815, 36.26756551646481, 41.37748798568898, 46.828850931752385, 52.621654354655014, 58.75589825439687, 65.23158263097794, 72.04870748439821, 79.20727281465773, 1.660449792775105, 2.7068926016605106, 4.0947758873851345, 5.824099649948986, 7.894863889352048, 10.307068605594337, 13.060713798675845, 16.155799468596584, 19.59232561535653, 23.370292238955685, 27.489699339394083, 31.950546916671694, 36.752834970788534, 41.89656350174458, 47.38173250953983, 53.208341994174354, 59.37639195564804, 65.88588239396098, 72.73681330911312, 79.9291847011045, 1.743427120031608, 2.823675990648879, 4.245365338105369, 6.0084951624010845, 8.113065463536012, 10.559076241510168, 13.34652749632354, 16.475419227976143, 19.94575143646795, 23.757524121798976, 27.910737283969244, 32.40539092297871, 37.241485038827435, 42.419019631515326, 47.93799470104246, 53.79841024740883, 60.00026627061441, 66.54356277065921, 73.4282997475432, 80.65447720126646, 1.8297850610032595, 2.9438399933523955, 4.399335402540751, 6.196271288568331, 8.334647651435125, 10.814464491141145, 13.635721807686382, 16.79841960107085, 20.302557871294525, 24.14813661835742, 28.33515584225954, 32.86361554300088, 37.73351572058145, 42.94485637500124, 48.49763750626021, 54.39185911435846, 60.627521199295884, 67.20462376107255, 74.12316679968842, 81.38315031514354]\n"
     ]
    }
   ],
   "source": [
    "# [t, c1p, c2p, c3p, c4p, epsilonp, deltap, chip]\n",
    "x0= [9.99997769055193, -8.042455772869037, 0.4104156269769683, 0.7626971134550099, 0.12854464458518508, 0.775287951314912, 0.5104429911912247, -0.8494864484591551]\n",
    "#[9.999999, -8, 0.4, 0.8, 0.1, 0.7, 1.01, -0.8]\n",
    "\n",
    "dimension = 8\n",
    "x=x0\n",
    "\n",
    "intervals = [0.0000001, 0.05, 0.05, 0.05, 0.05, 0.2, 0.0001, 0.02]\n",
    "num_points = 20# points for each param\n",
    "func_vals = [0] * (num_points**2)\n",
    "z_count = 0\n",
    "\n",
    "data_1 = [0] * num_points #len 20\n",
    "data_2 = [0] * num_points #len 20\n",
    "print(len(data_2))\n",
    "# do all iterations in one program\n",
    "# for param1 in range(dimension-1):\n",
    "#     num_axs = 7 - param1\n",
    "#     for param2 in range(num_axs):\n",
    "\n",
    "#treat as just c1 and c2\n",
    "for i in range(num_points): #t\n",
    "    data_1[i] = x0[1] + i*intervals[1];\n",
    "    for j in range(num_points): \n",
    "        data_2[j] = x0[2] + j*intervals[2]; #redundant\n",
    "        func_vals[z_count] = func([9.99997769055193, data_1[i], data_2[j], 0.7626971134550099, 0.12854464458518508, 0.775287951314912, 0.5104429911912247, -0.8494864484591551])\n",
    "        z_count = z_count+1\n",
    "    print(z_count)\n",
    "        \n",
    "        #do the check,  if invalid increment, replace index/point and do new obj func value\n",
    "            #only need to do if params include epsilon, delta, or chi\n",
    "#for loop in range(total_loop):\n",
    "print(func_vals)"
   ]
  },
  {
   "cell_type": "code",
   "execution_count": 32,
   "metadata": {},
   "outputs": [
    {
     "data": {
      "image/png": "[encoded data removed]",
      "text/plain": [
       "<Figure size 288x144 with 1 Axes>"
      ]
     },
     "execution_count": 32,
     "metadata": {},
     "output_type": "execute_result"
    }
   ],
   "source": [
    "fig = plt.Figure(figsize=plt.figaspect(1/(7-i)))\n",
    "ax = fig.add_subplot(111, projection='3d')\n",
    "#ax.scatter3D(data[overall], data[overall+plot_count+1], data[-1])\n",
    "\n",
    "#prep data\n",
    "#x_vals, x_idx = np.unique(data[overall], return_inverse=True)\n",
    "#y_vals, y_idx = np.unique(data[overall+plot_count+1], return_inverse=True)\n",
    "X, Y = np.meshgrid(np.array(data_1), np.array(data_2))\n",
    "zs = np.array(func_vals)\n",
    "Z = zs.reshape(X.shape)\n",
    "\n",
    "ax.plot_surface(X, Y, Z)\n",
    "\n",
    "ax.set_xlabel('X Label')\n",
    "ax.set_ylabel('Y Label')\n",
    "ax.set_zlabel('Z Label')\n",
    "\n",
    "#print(z_array)\n",
    "# print(y)\n",
    "#        ax.plot_surface(x, y, z_array, cmap=cm.coolwarm, linewidth=0, antialiased=False)\n",
    "#ax.set(xlabel=str(overall), ylabel=str(overall+plot_count+1))\n",
    "fig"
   ]
  },
  {
   "cell_type": "code",
   "execution_count": 15,
   "metadata": {},
   "outputs": [
    {
     "name": "stdout",
     "output_type": "stream",
     "text": [
      "24.843717064699256\n"
     ]
    }
   ],
   "source": [
    "figs = []\n",
    "for i in range(7):\n",
    "    figs.append(plt.Figure(figsize=plt.figaspect(1/(7-i))))\n",
    "\n",
    "# data stores [t, c1p, c2p, c3p, c4p, epsilonp, deltap, chip, obj]\n",
    "\n",
    "#  t,c1 ;  t,c2 ;  t,c3 ;  t,c4 ;  t, d ; t, e ;  t, x (7) - t\n",
    "# c1,c2 ; c1,c3 ; c1,c4 ; c1, e ; c1, d ; c1, x        (6) - c1\n",
    "# c2,c3 ; c2,c4 ; c2, e ; c2, d ; c2, x                (5) - c2\n",
    "# c3,c4 ; c3, e ; c3, d ; c3, x                        (4) - c3\n",
    "# c4, e ; c4, d ; c4, x                                (3) - c4\n",
    "#  e, d ;  e, x                                        (2) - e\n",
    "#  d, x                                                (1) - d\n",
    "\n",
    "for overall in range(7):\n",
    "    num_axs = 7 - overall\n",
    "    for plot_count in range(num_axs):\n",
    "        ax = figs[overall].add_subplot(1, num_axs, plot_count+1, projection='3d')\n",
    "        #ax.scatter3D(data[overall], data[overall+plot_count+1], data[-1])\n",
    "        \n",
    "        #prep data\n",
    "        #x_vals, x_idx = np.unique(data[overall], return_inverse=True)\n",
    "        #y_vals, y_idx = np.unique(data[overall+plot_count+1], return_inverse=True)\n",
    "        x, y = np.meshgrid(data[overall], data[overall+plot_count+1])\n",
    "        print(x.shape)\n",
    "        print(y.shape)\n",
    "        #print(z_array)\n",
    "        # print(y)\n",
    "#        ax.plot_surface(x, y, z_array, cmap=cm.coolwarm, linewidth=0, antialiased=False)\n",
    "        ax.set_title('params ' + str(overall) + ' ' + str(overall+plot_count+1))\n",
    "        #ax.set(xlabel=str(overall), ylabel=str(overall+plot_count+1))\n",
    "    "
   ]
  },
  {
   "cell_type": "code",
   "execution_count": 25,
   "metadata": {},
   "outputs": [
    {
     "data": {
      "text/plain": [
       "1.584770375191498"
      ]
     },
     "execution_count": 25,
     "metadata": {},
     "output_type": "execute_result"
    }
   ],
   "source": [
    "func([9.99997769055193, -8.042455772869037, 0.4104156269769683, 0.7626971134550099, 0.12854464458518508, 0.775287951314912, 0.5104429, -0.8494864484591551])"
   ]
  },
  {
   "cell_type": "code",
   "execution_count": 5,
   "metadata": {},
   "outputs": [
    {
     "ename": "ValueError",
     "evalue": "math domain error",
     "output_type": "error",
     "traceback": [
      "\u001b[0;31m---------------------------------------------------------------------------\u001b[0m",
      "\u001b[0;31mValueError\u001b[0m                                Traceback (most recent call last)",
      "\u001b[0;32m<ipython-input-5-6744b5591bda>\u001b[0m in \u001b[0;36m<module>\u001b[0;34m\u001b[0m\n\u001b[0;32m----> 1\u001b[0;31m \u001b[0mfunc\u001b[0m\u001b[0;34m(\u001b[0m\u001b[0;34m[\u001b[0m\u001b[0;36m9.99998057\u001b[0m\u001b[0;34m,\u001b[0m \u001b[0;34m-\u001b[0m\u001b[0;36m4.56026166\u001b[0m\u001b[0;34m,\u001b[0m \u001b[0;36m0.22418289\u001b[0m\u001b[0;34m,\u001b[0m \u001b[0;36m0.8\u001b[0m\u001b[0;34m,\u001b[0m \u001b[0;36m0.1\u001b[0m\u001b[0;34m,\u001b[0m \u001b[0;36m0.80661314\u001b[0m\u001b[0;34m,\u001b[0m \u001b[0;36m0.50003705\u001b[0m\u001b[0;34m,\u001b[0m \u001b[0;34m-\u001b[0m\u001b[0;36m0.9\u001b[0m\u001b[0;34m]\u001b[0m\u001b[0;34m)\u001b[0m\u001b[0;34m\u001b[0m\u001b[0;34m\u001b[0m\u001b[0m\n\u001b[0m",
      "\u001b[0;32m<ipython-input-4-2b3b6f121af4>\u001b[0m in \u001b[0;36mfunc\u001b[0;34m(xp)\u001b[0m\n\u001b[1;32m     36\u001b[0m     \u001b[0;32mreturn\u001b[0m \u001b[0;34m(\u001b[0m\u001b[0mabs\u001b[0m\u001b[0;34m(\u001b[0m\u001b[0mpsi1\u001b[0m\u001b[0;34m(\u001b[0m\u001b[0mxp\u001b[0m\u001b[0;34m[\u001b[0m\u001b[0;36m0\u001b[0m\u001b[0;34m]\u001b[0m\u001b[0;34m,\u001b[0m \u001b[0mxp\u001b[0m\u001b[0;34m[\u001b[0m\u001b[0;36m1\u001b[0m\u001b[0;34m]\u001b[0m\u001b[0;34m,\u001b[0m \u001b[0mxp\u001b[0m\u001b[0;34m[\u001b[0m\u001b[0;36m2\u001b[0m\u001b[0;34m]\u001b[0m\u001b[0;34m,\u001b[0m \u001b[0mxp\u001b[0m\u001b[0;34m[\u001b[0m\u001b[0;36m3\u001b[0m\u001b[0;34m]\u001b[0m\u001b[0;34m,\u001b[0m \u001b[0mxp\u001b[0m\u001b[0;34m[\u001b[0m\u001b[0;36m4\u001b[0m\u001b[0;34m]\u001b[0m\u001b[0;34m,\u001b[0m \u001b[0mxp\u001b[0m\u001b[0;34m[\u001b[0m\u001b[0;36m5\u001b[0m\u001b[0;34m]\u001b[0m\u001b[0;34m,\u001b[0m \u001b[0mxp\u001b[0m\u001b[0;34m[\u001b[0m\u001b[0;36m6\u001b[0m\u001b[0;34m]\u001b[0m\u001b[0;34m,\u001b[0m \u001b[0mxp\u001b[0m\u001b[0;34m[\u001b[0m\u001b[0;36m7\u001b[0m\u001b[0;34m]\u001b[0m\u001b[0;34m)\u001b[0m\u001b[0;34m)\u001b[0m\u001b[0;34m)\u001b[0m\u001b[0;34m**\u001b[0m\u001b[0;36m2\u001b[0m \u001b[0;34m+\u001b[0m\u001b[0;31m \u001b[0m\u001b[0;31m\\\u001b[0m\u001b[0;34m\u001b[0m\u001b[0;34m\u001b[0m\u001b[0m\n\u001b[1;32m     37\u001b[0m             \u001b[0;34m(\u001b[0m\u001b[0mabs\u001b[0m\u001b[0;34m(\u001b[0m\u001b[0mpsi2\u001b[0m\u001b[0;34m(\u001b[0m\u001b[0mxp\u001b[0m\u001b[0;34m[\u001b[0m\u001b[0;36m0\u001b[0m\u001b[0;34m]\u001b[0m\u001b[0;34m,\u001b[0m \u001b[0mxp\u001b[0m\u001b[0;34m[\u001b[0m\u001b[0;36m1\u001b[0m\u001b[0;34m]\u001b[0m\u001b[0;34m,\u001b[0m \u001b[0mxp\u001b[0m\u001b[0;34m[\u001b[0m\u001b[0;36m2\u001b[0m\u001b[0;34m]\u001b[0m\u001b[0;34m,\u001b[0m \u001b[0mxp\u001b[0m\u001b[0;34m[\u001b[0m\u001b[0;36m3\u001b[0m\u001b[0;34m]\u001b[0m\u001b[0;34m,\u001b[0m \u001b[0mxp\u001b[0m\u001b[0;34m[\u001b[0m\u001b[0;36m4\u001b[0m\u001b[0;34m]\u001b[0m\u001b[0;34m,\u001b[0m \u001b[0mxp\u001b[0m\u001b[0;34m[\u001b[0m\u001b[0;36m5\u001b[0m\u001b[0;34m]\u001b[0m\u001b[0;34m,\u001b[0m \u001b[0mxp\u001b[0m\u001b[0;34m[\u001b[0m\u001b[0;36m6\u001b[0m\u001b[0;34m]\u001b[0m\u001b[0;34m,\u001b[0m \u001b[0mxp\u001b[0m\u001b[0;34m[\u001b[0m\u001b[0;36m7\u001b[0m\u001b[0;34m]\u001b[0m\u001b[0;34m)\u001b[0m\u001b[0;34m)\u001b[0m\u001b[0;34m)\u001b[0m\u001b[0;34m**\u001b[0m\u001b[0;36m2\u001b[0m \u001b[0;34m+\u001b[0m\u001b[0;31m \u001b[0m\u001b[0;31m\\\u001b[0m\u001b[0;34m\u001b[0m\u001b[0;34m\u001b[0m\u001b[0m\n\u001b[0;32m---> 38\u001b[0;31m             \u001b[0;34m(\u001b[0m\u001b[0mabs\u001b[0m\u001b[0;34m(\u001b[0m\u001b[0mphi1\u001b[0m\u001b[0;34m(\u001b[0m\u001b[0mxp\u001b[0m\u001b[0;34m[\u001b[0m\u001b[0;36m0\u001b[0m\u001b[0;34m]\u001b[0m\u001b[0;34m,\u001b[0m \u001b[0mxp\u001b[0m\u001b[0;34m[\u001b[0m\u001b[0;36m1\u001b[0m\u001b[0;34m]\u001b[0m\u001b[0;34m,\u001b[0m \u001b[0mxp\u001b[0m\u001b[0;34m[\u001b[0m\u001b[0;36m2\u001b[0m\u001b[0;34m]\u001b[0m\u001b[0;34m,\u001b[0m \u001b[0mxp\u001b[0m\u001b[0;34m[\u001b[0m\u001b[0;36m3\u001b[0m\u001b[0;34m]\u001b[0m\u001b[0;34m,\u001b[0m \u001b[0mxp\u001b[0m\u001b[0;34m[\u001b[0m\u001b[0;36m4\u001b[0m\u001b[0;34m]\u001b[0m\u001b[0;34m,\u001b[0m \u001b[0mxp\u001b[0m\u001b[0;34m[\u001b[0m\u001b[0;36m5\u001b[0m\u001b[0;34m]\u001b[0m\u001b[0;34m,\u001b[0m \u001b[0mxp\u001b[0m\u001b[0;34m[\u001b[0m\u001b[0;36m6\u001b[0m\u001b[0;34m]\u001b[0m\u001b[0;34m,\u001b[0m \u001b[0mxp\u001b[0m\u001b[0;34m[\u001b[0m\u001b[0;36m7\u001b[0m\u001b[0;34m]\u001b[0m\u001b[0;34m)\u001b[0m\u001b[0;34m)\u001b[0m\u001b[0;34m)\u001b[0m\u001b[0;34m**\u001b[0m\u001b[0;36m2\u001b[0m \u001b[0;34m+\u001b[0m\u001b[0;31m \u001b[0m\u001b[0;31m\\\u001b[0m\u001b[0;34m\u001b[0m\u001b[0;34m\u001b[0m\u001b[0m\n\u001b[0m\u001b[1;32m     39\u001b[0m             \u001b[0;34m(\u001b[0m\u001b[0mabs\u001b[0m\u001b[0;34m(\u001b[0m\u001b[0mphi2\u001b[0m\u001b[0;34m(\u001b[0m\u001b[0mxp\u001b[0m\u001b[0;34m[\u001b[0m\u001b[0;36m0\u001b[0m\u001b[0;34m]\u001b[0m\u001b[0;34m,\u001b[0m \u001b[0mxp\u001b[0m\u001b[0;34m[\u001b[0m\u001b[0;36m2\u001b[0m\u001b[0;34m]\u001b[0m\u001b[0;34m,\u001b[0m \u001b[0mxp\u001b[0m\u001b[0;34m[\u001b[0m\u001b[0;36m4\u001b[0m\u001b[0;34m]\u001b[0m\u001b[0;34m,\u001b[0m \u001b[0mxp\u001b[0m\u001b[0;34m[\u001b[0m\u001b[0;36m5\u001b[0m\u001b[0;34m]\u001b[0m\u001b[0;34m,\u001b[0m \u001b[0mxp\u001b[0m\u001b[0;34m[\u001b[0m\u001b[0;36m6\u001b[0m\u001b[0;34m]\u001b[0m\u001b[0;34m,\u001b[0m \u001b[0mxp\u001b[0m\u001b[0;34m[\u001b[0m\u001b[0;36m7\u001b[0m\u001b[0;34m]\u001b[0m\u001b[0;34m)\u001b[0m\u001b[0;34m)\u001b[0m\u001b[0;34m)\u001b[0m\u001b[0;34m**\u001b[0m\u001b[0;36m2\u001b[0m\u001b[0;34m\u001b[0m\u001b[0;34m\u001b[0m\u001b[0m\n",
      "\u001b[0;32m<ipython-input-4-2b3b6f121af4>\u001b[0m in \u001b[0;36mpsi1\u001b[0;34m(t, c1, c2, c3, c4, epsilon, delta, chi)\u001b[0m\n\u001b[1;32m      4\u001b[0m     \u001b[0mc2\u001b[0m\u001b[0;34m*\u001b[0m\u001b[0msquareroot\u001b[0m\u001b[0;34m(\u001b[0m\u001b[0mepsilon\u001b[0m\u001b[0;34m,\u001b[0m \u001b[0mdelta\u001b[0m\u001b[0;34m,\u001b[0m \u001b[0mchi\u001b[0m\u001b[0;34m)\u001b[0m\u001b[0;34m*\u001b[0m\u001b[0me\u001b[0m\u001b[0;34m**\u001b[0m\u001b[0;34m(\u001b[0m\u001b[0;34m-\u001b[0m\u001b[0mt\u001b[0m\u001b[0;34m*\u001b[0m\u001b[0msquareroot\u001b[0m\u001b[0;34m(\u001b[0m\u001b[0mepsilon\u001b[0m\u001b[0;34m,\u001b[0m \u001b[0mdelta\u001b[0m\u001b[0;34m,\u001b[0m \u001b[0mchi\u001b[0m\u001b[0;34m)\u001b[0m\u001b[0;34m/\u001b[0m\u001b[0;36m2\u001b[0m\u001b[0;34m)\u001b[0m\u001b[0;34m/\u001b[0m\u001b[0;34m(\u001b[0m\u001b[0mdelta\u001b[0m \u001b[0;34m+\u001b[0m \u001b[0;36m2\u001b[0m\u001b[0;34m*\u001b[0m\u001b[0mchi\u001b[0m\u001b[0;34m)\u001b[0m \u001b[0;34m+\u001b[0m\u001b[0;31m \u001b[0m\u001b[0;31m\\\u001b[0m\u001b[0;34m\u001b[0m\u001b[0;34m\u001b[0m\u001b[0m\n\u001b[1;32m      5\u001b[0m     \u001b[0mc3\u001b[0m\u001b[0;34m*\u001b[0m\u001b[0mepsilon\u001b[0m\u001b[0;34m*\u001b[0m\u001b[0me\u001b[0m\u001b[0;34m**\u001b[0m\u001b[0;34m(\u001b[0m\u001b[0mt\u001b[0m\u001b[0;34m*\u001b[0m\u001b[0msquareroot\u001b[0m\u001b[0;34m(\u001b[0m\u001b[0mepsilon\u001b[0m\u001b[0;34m,\u001b[0m \u001b[0mdelta\u001b[0m\u001b[0;34m,\u001b[0m \u001b[0mchi\u001b[0m\u001b[0;34m)\u001b[0m\u001b[0;34m/\u001b[0m\u001b[0;36m2\u001b[0m\u001b[0;34m)\u001b[0m\u001b[0;34m/\u001b[0m\u001b[0;34m(\u001b[0m\u001b[0mdelta\u001b[0m \u001b[0;34m+\u001b[0m \u001b[0;36m2\u001b[0m\u001b[0;34m*\u001b[0m\u001b[0mchi\u001b[0m\u001b[0;34m)\u001b[0m \u001b[0;34m+\u001b[0m\u001b[0;31m \u001b[0m\u001b[0;31m\\\u001b[0m\u001b[0;34m\u001b[0m\u001b[0;34m\u001b[0m\u001b[0m\n\u001b[0;32m----> 6\u001b[0;31m     \u001b[0mc4\u001b[0m\u001b[0;34m*\u001b[0m\u001b[0mepsilon\u001b[0m\u001b[0;34m*\u001b[0m\u001b[0mt\u001b[0m\u001b[0;34m*\u001b[0m\u001b[0me\u001b[0m\u001b[0;34m**\u001b[0m\u001b[0;34m(\u001b[0m\u001b[0mt\u001b[0m\u001b[0;34m*\u001b[0m\u001b[0msquareroot\u001b[0m\u001b[0;34m(\u001b[0m\u001b[0mepsilon\u001b[0m\u001b[0;34m,\u001b[0m \u001b[0mdelta\u001b[0m\u001b[0;34m,\u001b[0m \u001b[0mchi\u001b[0m\u001b[0;34m)\u001b[0m\u001b[0;34m/\u001b[0m\u001b[0;36m2\u001b[0m\u001b[0;34m)\u001b[0m\u001b[0;34m/\u001b[0m\u001b[0;34m(\u001b[0m\u001b[0mdelta\u001b[0m \u001b[0;34m+\u001b[0m \u001b[0;36m2\u001b[0m\u001b[0;34m*\u001b[0m\u001b[0mchi\u001b[0m\u001b[0;34m)\u001b[0m \u001b[0;34m+\u001b[0m\u001b[0;31m \u001b[0m\u001b[0;31m\\\u001b[0m\u001b[0;34m\u001b[0m\u001b[0;34m\u001b[0m\u001b[0m\n\u001b[0m\u001b[1;32m      7\u001b[0m     \u001b[0mc4\u001b[0m\u001b[0;34m*\u001b[0m\u001b[0;34m(\u001b[0m\u001b[0mdelta\u001b[0m\u001b[0;34m**\u001b[0m\u001b[0;36m2\u001b[0m \u001b[0;34m+\u001b[0m \u001b[0;36m2\u001b[0m\u001b[0;34m*\u001b[0m\u001b[0mdelta\u001b[0m\u001b[0;34m*\u001b[0m\u001b[0mchi\u001b[0m \u001b[0;34m+\u001b[0m \u001b[0mepsilon\u001b[0m\u001b[0;34m**\u001b[0m\u001b[0;36m2\u001b[0m\u001b[0;34m)\u001b[0m\u001b[0;34m*\u001b[0m\u001b[0me\u001b[0m\u001b[0;34m**\u001b[0m\u001b[0;34m(\u001b[0m\u001b[0mt\u001b[0m\u001b[0;34m*\u001b[0m\u001b[0msquareroot\u001b[0m\u001b[0;34m(\u001b[0m\u001b[0mepsilon\u001b[0m\u001b[0;34m,\u001b[0m \u001b[0mdelta\u001b[0m\u001b[0;34m,\u001b[0m \u001b[0mchi\u001b[0m\u001b[0;34m)\u001b[0m\u001b[0;34m/\u001b[0m\u001b[0;36m2\u001b[0m\u001b[0;34m)\u001b[0m\u001b[0;31m \u001b[0m\u001b[0;31m\\\u001b[0m\u001b[0;34m\u001b[0m\u001b[0;34m\u001b[0m\u001b[0m\n\u001b[1;32m      8\u001b[0m     \u001b[0;34m/\u001b[0m\u001b[0;34m(\u001b[0m\u001b[0;34m(\u001b[0m\u001b[0mdelta\u001b[0m \u001b[0;34m+\u001b[0m \u001b[0;36m2\u001b[0m\u001b[0;34m*\u001b[0m\u001b[0mchi\u001b[0m\u001b[0;34m)\u001b[0m\u001b[0;34m*\u001b[0m\u001b[0msquareroot\u001b[0m\u001b[0;34m(\u001b[0m\u001b[0mepsilon\u001b[0m\u001b[0;34m,\u001b[0m \u001b[0mdelta\u001b[0m\u001b[0;34m,\u001b[0m \u001b[0mchi\u001b[0m\u001b[0;34m)\u001b[0m\u001b[0;34m)\u001b[0m\u001b[0;34m\u001b[0m\u001b[0;34m\u001b[0m\u001b[0m\n",
      "\u001b[0;32m<ipython-input-4-2b3b6f121af4>\u001b[0m in \u001b[0;36msquareroot\u001b[0;34m(epsilon, delta, chi)\u001b[0m\n\u001b[1;32m     31\u001b[0m \u001b[0;32mdef\u001b[0m \u001b[0msquareroot\u001b[0m\u001b[0;34m(\u001b[0m\u001b[0mepsilon\u001b[0m\u001b[0;34m,\u001b[0m \u001b[0mdelta\u001b[0m\u001b[0;34m,\u001b[0m \u001b[0mchi\u001b[0m\u001b[0;34m)\u001b[0m\u001b[0;34m:\u001b[0m\u001b[0;34m\u001b[0m\u001b[0;34m\u001b[0m\u001b[0m\n\u001b[1;32m     32\u001b[0m     \u001b[0mresult\u001b[0m \u001b[0;34m=\u001b[0m \u001b[0;34m-\u001b[0m\u001b[0mdelta\u001b[0m\u001b[0;34m**\u001b[0m\u001b[0;36m2\u001b[0m \u001b[0;34m-\u001b[0m \u001b[0;36m2\u001b[0m\u001b[0;34m*\u001b[0m\u001b[0mdelta\u001b[0m\u001b[0;34m*\u001b[0m\u001b[0mchi\u001b[0m \u001b[0;34m-\u001b[0m \u001b[0mepsilon\u001b[0m\u001b[0;34m**\u001b[0m\u001b[0;36m2\u001b[0m\u001b[0;34m\u001b[0m\u001b[0;34m\u001b[0m\u001b[0m\n\u001b[0;32m---> 33\u001b[0;31m     \u001b[0;32mreturn\u001b[0m \u001b[0mmath\u001b[0m\u001b[0;34m.\u001b[0m\u001b[0msqrt\u001b[0m\u001b[0;34m(\u001b[0m\u001b[0mresult\u001b[0m\u001b[0;34m)\u001b[0m\u001b[0;34m\u001b[0m\u001b[0;34m\u001b[0m\u001b[0m\n\u001b[0m\u001b[1;32m     34\u001b[0m \u001b[0;34m\u001b[0m\u001b[0m\n\u001b[1;32m     35\u001b[0m \u001b[0;32mdef\u001b[0m \u001b[0mfunc\u001b[0m\u001b[0;34m(\u001b[0m\u001b[0mxp\u001b[0m\u001b[0;34m)\u001b[0m\u001b[0;34m:\u001b[0m\u001b[0;34m\u001b[0m\u001b[0;34m\u001b[0m\u001b[0m\n",
      "\u001b[0;31mValueError\u001b[0m: math domain error"
     ]
    }
   ],
   "source": [
    "func([9.99998057, -4.56026166, 0.22418289, 0.8, 0.1, 0.80661314, 0.50003705, -0.9])"
   ]
  },
  {
   "cell_type": "code",
   "execution_count": null,
   "metadata": {},
   "outputs": [],
   "source": []
  }
 ],
 "metadata": {
  "kernelspec": {
   "display_name": "Python 3",
   "language": "python",
   "name": "python3"
  },
  "language_info": {
   "codemirror_mode": {
    "name": "ipython",
    "version": 3
   },
   "file_extension": ".py",
   "mimetype": "text/x-python",
   "name": "python",
   "nbconvert_exporter": "python",
   "pygments_lexer": "ipython3",
   "version": "3.7.6"
  }
 },
 "nbformat": 4,
 "nbformat_minor": 4
}
