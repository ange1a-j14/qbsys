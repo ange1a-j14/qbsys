{
 "cells": [
  {
   "cell_type": "code",
   "execution_count": 3,
   "metadata": {},
   "outputs": [],
   "source": [
    "import numpy as np\n",
    "from numpy.random import default_rng\n",
    "import math\n",
    "from math import ceil, log\n",
    "from numpy import e\n",
    "from mpl_toolkits import mplot3d\n",
    "import matplotlib.pyplot as plt\n",
    "from matplotlib import cm\n",
    "from matplotlib.ticker import LinearLocator"
   ]
  },
  {
   "cell_type": "code",
   "execution_count": 6,
   "metadata": {},
   "outputs": [],
   "source": [
    "def psi1(t, c1, c2, c3, c4, epsilon, delta, chi):\n",
    "    return c1*epsilon*e**(-t*squareroot(epsilon, delta, chi)/2)/(delta + 2*chi) + \\\n",
    "    c2*epsilon*t*e**(-t*squareroot(epsilon, delta, chi)/2)/(delta + 2*chi) + \\\n",
    "    c2*squareroot(epsilon, delta, chi)*e**(-t*squareroot(epsilon, delta, chi)/2)/(delta + 2*chi) + \\\n",
    "    c3*epsilon*e**(t*squareroot(epsilon, delta, chi)/2)/(delta + 2*chi) + \\\n",
    "    c4*epsilon*t*e**(t*squareroot(epsilon, delta, chi)/2)/(delta + 2*chi) + \\\n",
    "    c4*(delta**2 + 2*delta*chi + epsilon**2)*e**(t*squareroot(epsilon, delta, chi)/2) \\\n",
    "    /((delta + 2*chi)*squareroot(epsilon, delta, chi))\n",
    "    \n",
    "def psi2(t, c1, c2, c3, c4, epsilon, delta, chi):\n",
    "    return -c1*squareroot(epsilon, delta, chi)*e**(-t*squareroot(epsilon, delta, chi)/2)/(delta + 2*chi) + \\\n",
    "    c2*epsilon*e**(-t*squareroot(epsilon, delta, chi)/2)/(delta + 2*chi) - \\\n",
    "    c2*t*squareroot(epsilon, delta, chi)*e**(-t*squareroot(epsilon, delta, chi)/2)/(delta + 2*chi) + \\\n",
    "    c3*squareroot(epsilon, delta, chi)*e**(t*squareroot(epsilon, delta, chi)/2)/(delta + 2*chi) + \\\n",
    "    c4*epsilon*e**(t*squareroot(epsilon, delta, chi)/2)/(delta + 2*chi) + \\\n",
    "    c4*t*squareroot(epsilon, delta, chi)*e**(t*squareroot(epsilon, delta, chi)/2)/(delta + 2*chi)\n",
    "    \n",
    "def phi1(t, c1, c2, c3, c4, epsilon, delta, chi):\n",
    "    return c1*e**(-t*squareroot(epsilon, delta, chi)/2) + \\\n",
    "    c2*t*e**(-t*squareroot(epsilon, delta, chi)/2) + \\\n",
    "    c3*e**(t*squareroot(epsilon, delta, chi)/2) + \\\n",
    "    c4*t*e**(t*squareroot(epsilon, delta, chi)/2)\n",
    "\n",
    "def phi2(t, c2, c4, epsilon, delta, chi):\n",
    "    return c2*e**(-t*squareroot(epsilon, delta, chi)/2) + \\\n",
    "    c4*e**(t*squareroot(epsilon, delta, chi)/2)\n",
    "\n",
    "def check_sqrt(epsilon, delta, chi):\n",
    "    return -delta**2 - 2*delta*chi - epsilon**2 < 0\n",
    "\n",
    "def squareroot(epsilon, delta, chi):\n",
    "    result = -delta**2 - 2*delta*chi - epsilon**2\n",
    "    return math.sqrt(result)\n",
    "\n",
    "def func(xp):\n",
    "    return abs(psi1(xp[0], xp[1], xp[2], xp[3], xp[4], xp[5], xp[6], xp[7])) + \\\n",
    "            abs(psi2(xp[0], xp[1], xp[2], xp[3], xp[4], xp[5], xp[6], xp[7])) + \\\n",
    "            abs(phi1(xp[0], xp[1], xp[2], xp[3], xp[4], xp[5], xp[6], xp[7])) + \\\n",
    "            abs(phi2(xp[0], xp[2], xp[4], xp[5], xp[6], xp[7]))"
   ]
  },
  {
   "cell_type": "code",
   "execution_count": 14,
   "metadata": {},
   "outputs": [],
   "source": [
    "# [t, c1p, c2p, c3p, c4p, epsilonp, deltap, chip]\n",
    "x0=[9.999999, -8, 0.4, 0.8, 0.1, 0.7, 1.01, -0.8]\n",
    "\n",
    "dimension = 8\n",
    "x=x0\n",
    "\n",
    "intervals = [0.0000001, 0.05, 0.05, 0.05, 0.05, 0.2, 0.0001, 0.02]\n",
    "num_points = 20# points for each param\n",
    "func_vals = [[0] * num_points^2]\n",
    "\n",
    "data_1 = [[0] * num_points]\n",
    "data_2 = [[0] * num_points]\n",
    "\n",
    "# do all iterations in one program\n",
    "# for param1 in range(dimension-1):\n",
    "#     num_axs = 7 - param1\n",
    "#     for param2 in range(num_axs):\n",
    "        \n",
    "#treat as just c1 and c2\n",
    "for i in range(num_points):\n",
    "    jump_i = intervals[i]\n",
    "    for j in range(num_points):\n",
    "        jump_j = intervals[j]\n",
    "        \n",
    "        #do the check,  if invalid increment, replace index/point and do new obj func value\n",
    "            #only need to do if params include epsilon, delta, or chi\n",
    "#for loop in range(total_loop):"
   ]
  },
  {
   "cell_type": "code",
   "execution_count": 15,
   "metadata": {},
   "outputs": [
    {
     "name": "stdout",
     "output_type": "stream",
     "text": [
      "24.843717064699256\n"
     ]
    }
   ],
   "source": [
    "figs = []\n",
    "for i in range(7):\n",
    "    figs.append(plt.Figure(figsize=plt.figaspect(1/(7-i))))\n",
    "\n",
    "# data stores [t, c1p, c2p, c3p, c4p, epsilonp, deltap, chip, obj]\n",
    "\n",
    "#  t,c1 ;  t,c2 ;  t,c3 ;  t,c4 ;  t, d ; t, e ;  t, x (7) - t\n",
    "# c1,c2 ; c1,c3 ; c1,c4 ; c1, e ; c1, d ; c1, x        (6) - c1\n",
    "# c2,c3 ; c2,c4 ; c2, e ; c2, d ; c2, x                (5) - c2\n",
    "# c3,c4 ; c3, e ; c3, d ; c3, x                        (4) - c3\n",
    "# c4, e ; c4, d ; c4, x                                (3) - c4\n",
    "#  e, d ;  e, x                                        (2) - e\n",
    "#  d, x                                                (1) - d\n",
    "\n",
    "for overall in range(7):\n",
    "    num_axs = 7 - overall\n",
    "    for plot_count in range(num_axs):\n",
    "        ax = figs[overall].add_subplot(1, num_axs, plot_count+1, projection='3d')\n",
    "        #ax.scatter3D(data[overall], data[overall+plot_count+1], data[-1])\n",
    "        \n",
    "        #prep data\n",
    "        #x_vals, x_idx = np.unique(data[overall], return_inverse=True)\n",
    "        #y_vals, y_idx = np.unique(data[overall+plot_count+1], return_inverse=True)\n",
    "        x, y = np.meshgrid(data[overall], data[overall+plot_count+1])\n",
    "        print(x.shape)\n",
    "        print(y.shape)\n",
    "        #print(z_array)\n",
    "        # print(y)\n",
    "#        ax.plot_surface(x, y, z_array, cmap=cm.coolwarm, linewidth=0, antialiased=False)\n",
    "        ax.set_title('params ' + str(overall) + ' ' + str(overall+plot_count+1))\n",
    "        #ax.set(xlabel=str(overall), ylabel=str(overall+plot_count+1))\n",
    "    "
   ]
  },
  {
   "cell_type": "code",
   "execution_count": 25,
   "metadata": {},
   "outputs": [
    {
     "data": {
      "text/plain": [
       "1.584770375191498"
      ]
     },
     "execution_count": 25,
     "metadata": {},
     "output_type": "execute_result"
    }
   ],
   "source": [
    "func([9.99997769055193, -8.042455772869037, 0.4104156269769683, 0.7626971134550099, 0.12854464458518508, 0.775287951314912, 0.5104429, -0.8494864484591551])"
   ]
  },
  {
   "cell_type": "code",
   "execution_count": null,
   "metadata": {},
   "outputs": [],
   "source": []
  }
 ],
 "metadata": {
  "kernelspec": {
   "display_name": "Python 3",
   "language": "python",
   "name": "python3"
  },
  "language_info": {
   "codemirror_mode": {
    "name": "ipython",
    "version": 3
   },
   "file_extension": ".py",
   "mimetype": "text/x-python",
   "name": "python",
   "nbconvert_exporter": "python",
   "pygments_lexer": "ipython3",
   "version": "3.7.6"
  }
 },
 "nbformat": 4,
 "nbformat_minor": 4
}
