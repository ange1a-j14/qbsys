{
 "cells": [
  {
   "cell_type": "code",
   "execution_count": 47,
   "metadata": {},
   "outputs": [],
   "source": [
    "from sympy import *\n",
    "from sympy.abc import x\n",
    "from sympy.printing.latex import LatexPrinter, print_latex"
   ]
  },
  {
   "cell_type": "code",
   "execution_count": 34,
   "metadata": {},
   "outputs": [],
   "source": [
    "t, chi, Delta, epsilon = symbols('t chi Delta epsilon')\n",
    "psi1, psi2 = symbols('psi_1, psi_2', cls=Function)\n",
    "phi1, phi2 = symbols('phi_1, phi_2', cls=Function)"
   ]
  },
  {
   "cell_type": "code",
   "execution_count": 35,
   "metadata": {},
   "outputs": [
    {
     "name": "stdout",
     "output_type": "stream",
     "text": [
      "d           Δ⋅φ₂(t)   ε⋅ψ₂(t)\n",
      "──(ψ₁(t)) = ─────── + ───────\n",
      "dt             2         2   \n",
      "d             Δ⋅φ₁(t)   ε⋅ψ₁(t)\n",
      "──(ψ₂(t)) = - ─────── - ───────\n",
      "dt               2         2   \n",
      "d           Δ⋅ψ₂(t)             ε⋅φ₂(t)\n",
      "──(φ₁(t)) = ─────── + χ⋅ψ₂(t) - ───────\n",
      "dt             2                   2   \n",
      "d             Δ⋅ψ₁(t)             ε⋅φ₁(t)\n",
      "──(φ₂(t)) = - ─────── - χ⋅ψ₁(t) + ───────\n",
      "dt               2                   2   \n"
     ]
    }
   ],
   "source": [
    "eq1 = Eq(Derivative(psi1(t),t), epsilon/2*psi2(t) + Delta/2*phi2(t))\n",
    "eq2 = Eq(Derivative(psi2(t),t), -epsilon/2*psi1(t) - Delta/2*phi1(t))\n",
    "eq3 = Eq(Derivative(phi1(t),t), -epsilon/2*phi2(t) + Delta/2*psi2(t) + chi*psi2(t))\n",
    "eq4 = Eq(Derivative(phi2(t),t), epsilon/2*phi1(t) - Delta/2*psi1(t) - chi*psi1(t))\n",
    "\n",
    "eq = (eq1, eq2, eq3, eq4)\n",
    "for equation in eq:\n",
    "    pretty_print(equation)\n"
   ]
  },
  {
   "cell_type": "code",
   "execution_count": 36,
   "metadata": {},
   "outputs": [],
   "source": [
    "answer = dsolve(eq)"
   ]
  },
  {
   "cell_type": "code",
   "execution_count": 40,
   "metadata": {},
   "outputs": [
    {
     "data": {
      "text/latex": [
       "$\\displaystyle \\psi_{1}{\\left(t \\right)} = \\frac{C_{1} \\epsilon e^{- \\frac{t \\sqrt{- \\Delta^{2} - 2 \\Delta \\chi - \\epsilon^{2}}}{2}}}{\\Delta + 2 \\chi} + \\frac{C_{2} \\epsilon t e^{- \\frac{t \\sqrt{- \\Delta^{2} - 2 \\Delta \\chi - \\epsilon^{2}}}{2}}}{\\Delta + 2 \\chi} + \\frac{C_{2} \\sqrt{- \\Delta^{2} - 2 \\Delta \\chi - \\epsilon^{2}} e^{- \\frac{t \\sqrt{- \\Delta^{2} - 2 \\Delta \\chi - \\epsilon^{2}}}{2}}}{\\Delta + 2 \\chi} + \\frac{C_{3} \\epsilon e^{\\frac{t \\sqrt{- \\Delta^{2} - 2 \\Delta \\chi - \\epsilon^{2}}}{2}}}{\\Delta + 2 \\chi} + \\frac{C_{4} \\epsilon t e^{\\frac{t \\sqrt{- \\Delta^{2} - 2 \\Delta \\chi - \\epsilon^{2}}}{2}}}{\\Delta + 2 \\chi} + \\frac{C_{4} \\left(\\Delta \\left(\\Delta + 2 \\chi\\right) + \\epsilon^{2}\\right) e^{\\frac{t \\sqrt{- \\Delta^{2} - 2 \\Delta \\chi - \\epsilon^{2}}}{2}}}{\\left(\\Delta + 2 \\chi\\right) \\sqrt{- \\Delta^{2} - 2 \\Delta \\chi - \\epsilon^{2}}}$"
      ],
      "text/plain": [
       "Eq(psi_1(t), C1*epsilon*exp(-t*sqrt(-Delta**2 - 2*Delta*chi - epsilon**2)/2)/(Delta + 2*chi) + C2*epsilon*t*exp(-t*sqrt(-Delta**2 - 2*Delta*chi - epsilon**2)/2)/(Delta + 2*chi) + C2*sqrt(-Delta**2 - 2*Delta*chi - epsilon**2)*exp(-t*sqrt(-Delta**2 - 2*Delta*chi - epsilon**2)/2)/(Delta + 2*chi) + C3*epsilon*exp(t*sqrt(-Delta**2 - 2*Delta*chi - epsilon**2)/2)/(Delta + 2*chi) + C4*epsilon*t*exp(t*sqrt(-Delta**2 - 2*Delta*chi - epsilon**2)/2)/(Delta + 2*chi) + C4*(Delta*(Delta + 2*chi) + epsilon**2)*exp(t*sqrt(-Delta**2 - 2*Delta*chi - epsilon**2)/2)/((Delta + 2*chi)*sqrt(-Delta**2 - 2*Delta*chi - epsilon**2)))"
      ]
     },
     "execution_count": 40,
     "metadata": {},
     "output_type": "execute_result"
    }
   ],
   "source": [
    "answer[0]"
   ]
  },
  {
   "cell_type": "code",
   "execution_count": 41,
   "metadata": {},
   "outputs": [
    {
     "data": {
      "text/latex": [
       "$\\displaystyle \\psi_{2}{\\left(t \\right)} = - \\frac{C_{1} \\sqrt{- \\Delta^{2} - 2 \\Delta \\chi - \\epsilon^{2}} e^{- \\frac{t \\sqrt{- \\Delta^{2} - 2 \\Delta \\chi - \\epsilon^{2}}}{2}}}{\\Delta + 2 \\chi} + \\frac{C_{2} \\epsilon e^{- \\frac{t \\sqrt{- \\Delta^{2} - 2 \\Delta \\chi - \\epsilon^{2}}}{2}}}{\\Delta + 2 \\chi} - \\frac{C_{2} t \\sqrt{- \\Delta^{2} - 2 \\Delta \\chi - \\epsilon^{2}} e^{- \\frac{t \\sqrt{- \\Delta^{2} - 2 \\Delta \\chi - \\epsilon^{2}}}{2}}}{\\Delta + 2 \\chi} + \\frac{C_{3} \\sqrt{- \\Delta^{2} - 2 \\Delta \\chi - \\epsilon^{2}} e^{\\frac{t \\sqrt{- \\Delta^{2} - 2 \\Delta \\chi - \\epsilon^{2}}}{2}}}{\\Delta + 2 \\chi} + \\frac{C_{4} \\epsilon e^{\\frac{t \\sqrt{- \\Delta^{2} - 2 \\Delta \\chi - \\epsilon^{2}}}{2}}}{\\Delta + 2 \\chi} + \\frac{C_{4} t \\sqrt{- \\Delta^{2} - 2 \\Delta \\chi - \\epsilon^{2}} e^{\\frac{t \\sqrt{- \\Delta^{2} - 2 \\Delta \\chi - \\epsilon^{2}}}{2}}}{\\Delta + 2 \\chi}$"
      ],
      "text/plain": [
       "Eq(psi_2(t), -C1*sqrt(-Delta**2 - 2*Delta*chi - epsilon**2)*exp(-t*sqrt(-Delta**2 - 2*Delta*chi - epsilon**2)/2)/(Delta + 2*chi) + C2*epsilon*exp(-t*sqrt(-Delta**2 - 2*Delta*chi - epsilon**2)/2)/(Delta + 2*chi) - C2*t*sqrt(-Delta**2 - 2*Delta*chi - epsilon**2)*exp(-t*sqrt(-Delta**2 - 2*Delta*chi - epsilon**2)/2)/(Delta + 2*chi) + C3*sqrt(-Delta**2 - 2*Delta*chi - epsilon**2)*exp(t*sqrt(-Delta**2 - 2*Delta*chi - epsilon**2)/2)/(Delta + 2*chi) + C4*epsilon*exp(t*sqrt(-Delta**2 - 2*Delta*chi - epsilon**2)/2)/(Delta + 2*chi) + C4*t*sqrt(-Delta**2 - 2*Delta*chi - epsilon**2)*exp(t*sqrt(-Delta**2 - 2*Delta*chi - epsilon**2)/2)/(Delta + 2*chi))"
      ]
     },
     "execution_count": 41,
     "metadata": {},
     "output_type": "execute_result"
    }
   ],
   "source": [
    "answer[1]"
   ]
  },
  {
   "cell_type": "code",
   "execution_count": 42,
   "metadata": {},
   "outputs": [
    {
     "data": {
      "text/latex": [
       "$\\displaystyle \\phi_{1}{\\left(t \\right)} = C_{1} e^{- \\frac{t \\sqrt{- \\Delta^{2} - 2 \\Delta \\chi - \\epsilon^{2}}}{2}} + C_{2} t e^{- \\frac{t \\sqrt{- \\Delta^{2} - 2 \\Delta \\chi - \\epsilon^{2}}}{2}} + C_{3} e^{\\frac{t \\sqrt{- \\Delta^{2} - 2 \\Delta \\chi - \\epsilon^{2}}}{2}} + C_{4} t e^{\\frac{t \\sqrt{- \\Delta^{2} - 2 \\Delta \\chi - \\epsilon^{2}}}{2}}$"
      ],
      "text/plain": [
       "Eq(phi_1(t), C1*exp(-t*sqrt(-Delta**2 - 2*Delta*chi - epsilon**2)/2) + C2*t*exp(-t*sqrt(-Delta**2 - 2*Delta*chi - epsilon**2)/2) + C3*exp(t*sqrt(-Delta**2 - 2*Delta*chi - epsilon**2)/2) + C4*t*exp(t*sqrt(-Delta**2 - 2*Delta*chi - epsilon**2)/2))"
      ]
     },
     "execution_count": 42,
     "metadata": {},
     "output_type": "execute_result"
    }
   ],
   "source": [
    "answer[2]"
   ]
  },
  {
   "cell_type": "code",
   "execution_count": 43,
   "metadata": {},
   "outputs": [
    {
     "data": {
      "text/latex": [
       "$\\displaystyle \\phi_{2}{\\left(t \\right)} = C_{2} e^{- \\frac{t \\sqrt{- \\Delta^{2} - 2 \\Delta \\chi - \\epsilon^{2}}}{2}} + C_{4} e^{\\frac{t \\sqrt{- \\Delta^{2} - 2 \\Delta \\chi - \\epsilon^{2}}}{2}}$"
      ],
      "text/plain": [
       "Eq(phi_2(t), C2*exp(-t*sqrt(-Delta**2 - 2*Delta*chi - epsilon**2)/2) + C4*exp(t*sqrt(-Delta**2 - 2*Delta*chi - epsilon**2)/2))"
      ]
     },
     "execution_count": 43,
     "metadata": {},
     "output_type": "execute_result"
    }
   ],
   "source": [
    "answer[3]"
   ]
  },
  {
   "cell_type": "code",
   "execution_count": null,
   "metadata": {},
   "outputs": [],
   "source": []
  },
  {
   "cell_type": "code",
   "execution_count": null,
   "metadata": {},
   "outputs": [],
   "source": []
  }
 ],
 "metadata": {
  "kernelspec": {
   "display_name": "Python 3",
   "language": "python",
   "name": "python3"
  },
  "language_info": {
   "codemirror_mode": {
    "name": "ipython",
    "version": 3
   },
   "file_extension": ".py",
   "mimetype": "text/x-python",
   "name": "python",
   "nbconvert_exporter": "python",
   "pygments_lexer": "ipython3",
   "version": "3.7.6"
  }
 },
 "nbformat": 4,
 "nbformat_minor": 4
}
