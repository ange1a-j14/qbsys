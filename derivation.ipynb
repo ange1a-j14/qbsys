{
 "cells": [
  {
   "cell_type": "code",
   "execution_count": 2,
   "metadata": {},
   "outputs": [],
   "source": [
    "from scipy.integrate import odeint\n",
    "import numpy as np\n",
    "import matplotlib.pyplot as plt"
   ]
  },
  {
   "cell_type": "code",
   "execution_count": 5,
   "metadata": {},
   "outputs": [],
   "source": [
    "def phi_1(t, A, B, delta, chi, epsilon, theta1, theta2):\n",
    "    return (B/delta)*np.sqrt(delta**2 + 2*chi*delta + epsilon**2) * \\\n",
    "    np.sin(0.5*t*np.sqrt(delta**2 + 2*chi*delta + epsilon**2) + theta2) - \\\n",
    "    (epsilon/delta)*A*np.cos(0.5*t*np.sqrt(delta**2 + 2*chi*delta + epsilon**2) + theta1)\n",
    "\n",
    "def phi_2(t, A, B, delta, chi, epsilon, theta1, theta2):\n",
    "    return (-A/delta)*np.sqrt(delta**2 + 2*chi*delta + epsilon**2) * \\\n",
    "    np.sin(0.5*t*np.sqrt(delta**2 + 2*chi*delta + epsilon**2) + theta1) - \\\n",
    "    (epsilon/delta)*B*np.cos(0.5*t*np.sqrt(delta**2 + 2*chi*delta + epsilon**2) + theta2)"
   ]
  },
  {
   "cell_type": "code",
   "execution_count": 26,
   "metadata": {},
   "outputs": [
    {
     "data": {
      "image/png": "[encoded data removed]",
      "text/plain": [
       "<Figure size 432x288 with 1 Axes>"
      ]
     },
     "metadata": {
      "needs_background": "light"
     },
     "output_type": "display_data"
    },
    {
     "data": {
      "image/png": "[encoded data removed]",
      "text/plain": [
       "<Figure size 432x288 with 1 Axes>"
      ]
     },
     "metadata": {
      "needs_background": "light"
     },
     "output_type": "display_data"
    },
    {
     "data": {
      "image/png": "[encoded data removed]",
      "text/plain": [
       "<Figure size 432x288 with 1 Axes>"
      ]
     },
     "metadata": {
      "needs_background": "light"
     },
     "output_type": "display_data"
    }
   ],
   "source": [
    "A = 0.3\n",
    "B = np.sqrt(1 - A**2)\n",
    "delta = 1.01\n",
    "chi = 0.5\n",
    "epsilon = 0.99\n",
    "theta1 = np.pi/2\n",
    "theta2 = -np.pi/2\n",
    "\n",
    "plt.figure()\n",
    "\n",
    "for t in range(25):\n",
    "    plt.plot(t,phi_1(t, A, B, delta, chi, epsilon, theta1, theta2),'bo')\n",
    "    plt.plot(t,phi_2(t, A, B, delta, chi, epsilon, theta1, theta2),'ro')\n",
    "    \n",
    "plt.show()\n",
    "\n",
    "plt.figure()\n",
    "\n",
    "for t in range(20):\n",
    "    plt.plot(t,phi_1(t, A, B, delta, chi, epsilon, theta1, theta2),'bo')\n",
    "    plt.plot(t,phi_1(t, 0, B, delta, chi, epsilon, theta1, theta2),'ro')\n",
    "    plt.plot(t,phi_1(t, A, 0, delta, chi, epsilon, theta1, theta2),'go')\n",
    "\n",
    "plt.show()\n",
    "\n",
    "plt.figure()\n",
    "\n",
    "for t in range(20):\n",
    "    plt.plot(t,phi_2(t, A, B, delta, chi, epsilon, theta1, theta2),'bo')\n",
    "    plt.plot(t,phi_2(t, 0, B, delta, chi, epsilon, theta1, theta2),'ro')\n",
    "    plt.plot(t,phi_2(t, A, 0, delta, chi, epsilon, theta1, theta2),'go')\n",
    "    \n",
    "plt.show()\n"
   ]
  },
  {
   "cell_type": "code",
   "execution_count": 1,
   "metadata": {},
   "outputs": [],
   "source": [
    "# #iterate from 1-n differential equation func: ia_n'(t) = delta_a * a_n(t) + n delta_c * a_n(t) + g sqrt(n + 1)b_n+1(t)\n",
    "\n",
    "# #n = 1-10, delta_a = 1.1, delta_c = 0.9\n",
    "\n",
    "# def calculate50(abvect, t, n, delta_a, delta_c, g):\n",
    "#     a_n, b_n1 = abvect\n",
    "#     dadt = [a_n, delta_a*a_n*(-1j) + n*delta_c*a_n*(-1j) + g*np.sqrt(n+1)*b_n1*(-1j)]\n",
    "#     return dadt.astype(complex)\n",
    "\n",
    "# delta_a = 1.1\n",
    "# delta_c = 0.9\n",
    "# n = 10\n",
    "# g = 1\n",
    "\n",
    "# abvect_initial = np.array([1, 0], dtype=complex)\n",
    "# t = np.linspace(0, 10, 101).astype(complex)\n",
    "# sol = odeint(calculate50, abvect_initial, t, args=(n, delta_a, delta_c, g)).astype(complex)"
   ]
  },
  {
   "cell_type": "code",
   "execution_count": null,
   "metadata": {},
   "outputs": [],
   "source": []
  }
 ],
 "metadata": {
  "kernelspec": {
   "display_name": "Python 3",
   "language": "python",
   "name": "python3"
  },
  "language_info": {
   "codemirror_mode": {
    "name": "ipython",
    "version": 3
   },
   "file_extension": ".py",
   "mimetype": "text/x-python",
   "name": "python",
   "nbconvert_exporter": "python",
   "pygments_lexer": "ipython3",
   "version": "3.7.6"
  }
 },
 "nbformat": 4,
 "nbformat_minor": 4
}
