{
 "cells": [
  {
   "cell_type": "code",
   "execution_count": 17,
   "metadata": {},
   "outputs": [],
   "source": [
    "import numpy as np\n",
    "from numpy.random import default_rng\n",
    "import math\n",
    "from math import ceil, log\n",
    "from numpy import e\n",
    "from mpl_toolkits import mplot3d\n",
    "import matplotlib.pyplot as plt\n",
    "from matplotlib import cm\n",
    "from matplotlib.ticker import LinearLocator\n",
    "from sklearn import preprocessing\n",
    "from sympy.matrices import Matrix, eye, zeros, ones, diag, GramSchmidt"
   ]
  },
  {
   "cell_type": "code",
   "execution_count": 2,
   "metadata": {},
   "outputs": [],
   "source": [
    "def psi1(t, c1, c2, c3, c4, epsilon, delta, chi):\n",
    "    return c1*epsilon*e**(-t*squareroot(epsilon, delta, chi)/2)/(delta + 2*chi) + \\\n",
    "    c2*epsilon*t*e**(-t*squareroot(epsilon, delta, chi)/2)/(delta + 2*chi) + \\\n",
    "    c2*squareroot(epsilon, delta, chi)*e**(-t*squareroot(epsilon, delta, chi)/2)/(delta + 2*chi) + \\\n",
    "    c3*epsilon*e**(t*squareroot(epsilon, delta, chi)/2)/(delta + 2*chi) + \\\n",
    "    c4*epsilon*t*e**(t*squareroot(epsilon, delta, chi)/2)/(delta + 2*chi) + \\\n",
    "    c4*(delta**2 + 2*delta*chi + epsilon**2)*e**(t*squareroot(epsilon, delta, chi)/2) \\\n",
    "    /((delta + 2*chi)*squareroot(epsilon, delta, chi))\n",
    "    \n",
    "def psi2(t, c1, c2, c3, c4, epsilon, delta, chi):\n",
    "    return -c1*squareroot(epsilon, delta, chi)*e**(-t*squareroot(epsilon, delta, chi)/2)/(delta + 2*chi) + \\\n",
    "    c2*epsilon*e**(-t*squareroot(epsilon, delta, chi)/2)/(delta + 2*chi) - \\\n",
    "    c2*t*squareroot(epsilon, delta, chi)*e**(-t*squareroot(epsilon, delta, chi)/2)/(delta + 2*chi) + \\\n",
    "    c3*squareroot(epsilon, delta, chi)*e**(t*squareroot(epsilon, delta, chi)/2)/(delta + 2*chi) + \\\n",
    "    c4*epsilon*e**(t*squareroot(epsilon, delta, chi)/2)/(delta + 2*chi) + \\\n",
    "    c4*t*squareroot(epsilon, delta, chi)*e**(t*squareroot(epsilon, delta, chi)/2)/(delta + 2*chi)\n",
    "    \n",
    "def phi1(t, c1, c2, c3, c4, epsilon, delta, chi):\n",
    "    return c1*e**(-t*squareroot(epsilon, delta, chi)/2) + \\\n",
    "    c2*t*e**(-t*squareroot(epsilon, delta, chi)/2) + \\\n",
    "    c3*e**(t*squareroot(epsilon, delta, chi)/2) + \\\n",
    "    c4*t*e**(t*squareroot(epsilon, delta, chi)/2)\n",
    "\n",
    "def phi2(t, c2, c4, epsilon, delta, chi):\n",
    "    return c2*e**(-t*squareroot(epsilon, delta, chi)/2) + \\\n",
    "    c4*e**(t*squareroot(epsilon, delta, chi)/2)\n",
    "\n",
    "def check_sqrt(epsilon, delta, chi):\n",
    "    return -delta**2 - 2*delta*chi - epsilon**2 < 0\n",
    "\n",
    "def squareroot(epsilon, delta, chi):\n",
    "    result = -delta**2 - 2*delta*chi - epsilon**2\n",
    "    return math.sqrt(result)\n",
    "\n",
    "def func(xp):\n",
    "    return ((abs(psi1(xp[0], xp[1], xp[2], xp[3], xp[4], xp[5], xp[6], xp[7])))**2 + \\\n",
    "            (abs(psi2(xp[0], xp[1], xp[2], xp[3], xp[4], xp[5], xp[6], xp[7])))**2 + \\\n",
    "            (abs(phi1(xp[0], xp[1], xp[2], xp[3], xp[4], xp[5], xp[6], xp[7])))**2 + \\\n",
    "            (abs(phi2(xp[0], xp[2], xp[4], xp[5], xp[6], xp[7])))**2)"
   ]
  },
  {
   "cell_type": "code",
   "execution_count": 3,
   "metadata": {},
   "outputs": [],
   "source": [
    "def normalize_func(xp):\n",
    "    psi_squared = (abs(psi1(xp[0], xp[1], xp[2], xp[3], xp[4], xp[5], xp[6], xp[7])))**2 + \\\n",
    "            (abs(psi2(xp[0], xp[1], xp[2], xp[3], xp[4], xp[5], xp[6], xp[7])))**2\n",
    "    phi_squared = (abs(phi1(xp[0], xp[1], xp[2], xp[3], xp[4], xp[5], xp[6], xp[7])))**2 + \\\n",
    "            (abs(phi2(xp[0], xp[2], xp[4], xp[5], xp[6], xp[7])))**2\n",
    "    return [psi_squared**2/(psi_squared**2+phi_squared**2), phi_squared**2/(psi_squared**2+phi_squared**2)]"
   ]
  },
  {
   "cell_type": "code",
   "execution_count": 12,
   "metadata": {},
   "outputs": [],
   "source": [
    "def a(xp):\n",
    "    psi1p = psi1(xp[0], xp[1], xp[2], xp[3], xp[4], xp[5], xp[6], xp[7])\n",
    "    psi2p = psi2(xp[0], xp[1], xp[2], xp[3], xp[4], xp[5], xp[6], xp[7])\n",
    "    psi_squared = (abs(psi1p))**2 + (abs(psi2p))**2\n",
    "    second_half = psi2p*np.conj(psi1p) - psi1p*np.conj(psi2p)\n",
    "    return complex(psi_squared, second_half)\n",
    "\n",
    "def b(xp):\n",
    "    psi1p = psi1(xp[0], xp[1], xp[2], xp[3], xp[4], xp[5], xp[6], xp[7])\n",
    "    psi2p = psi2(xp[0], xp[1], xp[2], xp[3], xp[4], xp[5], xp[6], xp[7])\n",
    "    phi1p = phi1(xp[0], xp[1], xp[2], xp[3], xp[4], xp[5], xp[6], xp[7])\n",
    "    phi2p = phi2(xp[0], xp[2], xp[4], xp[5], xp[6], xp[7])\n",
    "    first_half = psi1p*np.conj(phi1p) + psi2p*np.conj(phi2p)\n",
    "    second_half = psi2p*np.conj(phi1p) - psi1p*np.conj(phi2p)\n",
    "    return complex(first_half, second_half)\n",
    "\n",
    "def c(xp):\n",
    "    psi1p = psi1(xp[0], xp[1], xp[2], xp[3], xp[4], xp[5], xp[6], xp[7])\n",
    "    psi2p = psi2(xp[0], xp[1], xp[2], xp[3], xp[4], xp[5], xp[6], xp[7])\n",
    "    phi1p = phi1(xp[0], xp[1], xp[2], xp[3], xp[4], xp[5], xp[6], xp[7])\n",
    "    phi2p = phi2(xp[0], xp[2], xp[4], xp[5], xp[6], xp[7])\n",
    "    first_half = phi1p*np.conj(psi1p) + phi2p*np.conj(psi2p)\n",
    "    second_half = phi2p*np.conj(psi1p) - phi1p*np.conj(psi2p)\n",
    "    return complex(first_half, second_half)\n",
    "\n",
    "def d(xp):\n",
    "    phi1p = phi1(xp[0], xp[1], xp[2], xp[3], xp[4], xp[5], xp[6], xp[7])\n",
    "    phi2p = phi2(xp[0], xp[2], xp[4], xp[5], xp[6], xp[7])\n",
    "    phi_squared = (abs(phi1p))**2 + (abs(phi2p))**2\n",
    "    second_half = phi2p*np.conj(phi1p) - phi1p*np.conj(phi2p)\n",
    "    return complex(phi_squared, second_half)"
   ]
  },
  {
   "cell_type": "code",
   "execution_count": 15,
   "metadata": {},
   "outputs": [],
   "source": [
    "x = [0, -8.042455772869037, 0.4104156269769683, 0.7626971134550099, 0.12854464458518508, 0.7365235537491663, 0.5104429911912247, -0.8622287451860423]\n",
    "\n",
    "arr = np.array([[a(x), b(x)], [c(x), d(x)]])\n",
    "\n"
   ]
  },
  {
   "cell_type": "code",
   "execution_count": 16,
   "metadata": {},
   "outputs": [
    {
     "data": {
      "text/plain": [
       "(array([5.02542450e-15+2.59996203e-15j, 7.77122319e+01-2.59996203e-15j]),\n",
       " array([[ 0.82805518+0.j        , -0.51194957+0.22854377j],\n",
       "        [ 0.51194957+0.22854377j,  0.82805518+0.j        ]]))"
      ]
     },
     "execution_count": 16,
     "metadata": {},
     "output_type": "execute_result"
    }
   ],
   "source": [
    "np.linalg.eig(arr)"
   ]
  },
  {
   "cell_type": "code",
   "execution_count": 37,
   "metadata": {},
   "outputs": [
    {
     "name": "stdout",
     "output_type": "stream",
     "text": [
      "p1  (6.466709779313391e-17+3.345627794277776e-17j)\n",
      "p2  (1-3.345627794277776e-17j)\n"
     ]
    },
    {
     "data": {
      "text/plain": [
       "(-2.4189181165605785e-15-1.245773113810907e-15j)"
      ]
     },
     "execution_count": 37,
     "metadata": {},
     "output_type": "execute_result"
    }
   ],
   "source": [
    "p1 = complex(5.02542450*10**(-15), 2.59996203*10**(-15))\n",
    "temp = complex(5.02542450*10**(-15), 2.59996203*10**(-15))\n",
    "p2 = complex(7.77122319*10, -2.59996203*10**(-15))\n",
    "p1 = p1/(temp + p2)\n",
    "p2 = p2/(temp+p2)\n",
    "print(\"p1 \", p1)\n",
    "print(\"p2 \", p2)\n",
    "p1*np.log(p1) + p2*np.log(p2)"
   ]
  },
  {
   "cell_type": "code",
   "execution_count": 21,
   "metadata": {},
   "outputs": [],
   "source": [
    "from sympy import *\n",
    "from sympy.abc import x\n",
    "from sympy.printing.latex import LatexPrinter, print_latex\n",
    "from sympy.functions import exp"
   ]
  },
  {
   "cell_type": "code",
   "execution_count": 22,
   "metadata": {},
   "outputs": [],
   "source": [
    "t, chi, delta, epsilon, c1, c2, c3, c4 = symbols('t chi Delta epsilon c1 c2 c3 c4')\n",
    "psi1, psi2 = symbols('psi_1, psi_2', cls=Function)\n",
    "phi1, phi2 = symbols('phi_1, phi_2', cls=Function)"
   ]
  },
  {
   "cell_type": "code",
   "execution_count": 25,
   "metadata": {},
   "outputs": [],
   "source": [
    "exprpsi1 = c1*epsilon*exp(-t*sqrt(-delta**2 - 2*delta*chi - epsilon**2)/2)/(delta + 2*chi) + \\\n",
    "    c2*epsilon*t*exp(-t*sqrt(-delta**2 - 2*delta*chi - epsilon**2)/2)/(delta + 2*chi) + \\\n",
    "    c2*sqrt(-delta**2 - 2*delta*chi - epsilon**2)*exp(-t*sqrt(-delta**2 - 2*delta*chi - epsilon**2)/2)/(delta + 2*chi) + \\\n",
    "    c3*epsilon*exp(t*sqrt(-delta**2 - 2*delta*chi - epsilon**2)/2)/(delta + 2*chi) + \\\n",
    "    c4*epsilon*t*exp(t*sqrt(-delta**2 - 2*delta*chi - epsilon**2)/2)/(delta + 2*chi) + \\\n",
    "    c4*(delta**2 + 2*delta*chi + epsilon**2)*exp(t*sqrt(-delta**2 - 2*delta*chi - epsilon**2)/2) \\\n",
    "    /((delta + 2*chi)*sqrt(-delta**2 - 2*delta*chi - epsilon**2))\n",
    "    \n",
    "exprpsi2 = -c1*sqrt(-delta**2 - 2*delta*chi - epsilon**2)*exp(-t*sqrt(-delta**2 - 2*delta*chi - epsilon**2)/2)/(delta + 2*chi) + \\\n",
    "    c2*epsilon*exp(-t*sqrt(-delta**2 - 2*delta*chi - epsilon**2)/2)/(delta + 2*chi) - \\\n",
    "    c2*t*sqrt(-delta**2 - 2*delta*chi - epsilon**2)*exp(-t*sqrt(-delta**2 - 2*delta*chi - epsilon**2)/2)/(delta + 2*chi) + \\\n",
    "    c3*sqrt(-delta**2 - 2*delta*chi - epsilon**2)*exp(t*sqrt(-delta**2 - 2*delta*chi - epsilon**2)/2)/(delta + 2*chi) + \\\n",
    "    c4*epsilon*exp(t*sqrt(-delta**2 - 2*delta*chi - epsilon**2)/2)/(delta + 2*chi) + \\\n",
    "    c4*t*sqrt(-delta**2 - 2*delta*chi - epsilon**2)*exp(t*sqrt(-delta**2 - 2*delta*chi - epsilon**2)/2)/(delta + 2*chi)\n",
    "    \n",
    "exprphi1 = c1*exp(-t*sqrt(-delta**2 - 2*delta*chi - epsilon**2)/2) + \\\n",
    "    c2*t*exp(-t*sqrt(-delta**2 - 2*delta*chi - epsilon**2)/2) + \\\n",
    "    c3*exp(t*sqrt(-delta**2 - 2*delta*chi - epsilon**2)/2) + \\\n",
    "    c4*t*exp(t*sqrt(-delta**2 - 2*delta*chi - epsilon**2)/2)\n",
    "\n",
    "exprphi2 = c2*exp(-t*sqrt(-delta**2 - 2*delta*chi - epsilon**2)/2) + \\\n",
    "    c4*exp(t*sqrt(-delta**2 - 2*delta*chi - epsilon**2)/2)"
   ]
  },
  {
   "cell_type": "code",
   "execution_count": 29,
   "metadata": {},
   "outputs": [],
   "source": [
    "exprA = Abs(exprpsi1)**2 + Abs(exprpsi2)**2 + I*(exprpsi2*conjugate(exprpsi1) - exprpsi1*conjugate(exprpsi2))\n",
    "exprB = exprpsi1*conjugate(exprphi1) + exprpsi2*conjugate(exprphi2) + I*(exprpsi2*conjugate(exprphi1) - exprpsi1*conjugate(exprphi2))\n",
    "exprC = exprphi1*conjugate(exprpsi1) + exprphi2*conjugate(exprpsi2) + I*(exprphi2*conjugate(exprpsi1) - exprphi1*conjugate(exprpsi2))\n",
    "exprD = Abs(exprphi1)**2 + Abs(exprphi2)**2 + I*(exprphi2*conjugate(exprphi1) - exprphi1*conjugate(exprphi2))\n"
   ]
  },
  {
   "cell_type": "code",
   "execution_count": 30,
   "metadata": {},
   "outputs": [],
   "source": [
    "m = Matrix([[exprA, exprB], [exprC, exprD]])"
   ]
  },
  {
   "cell_type": "code",
   "execution_count": null,
   "metadata": {},
   "outputs": [],
   "source": [
    "p, d = m.diagonalize()"
   ]
  },
  {
   "cell_type": "code",
   "execution_count": null,
   "metadata": {},
   "outputs": [],
   "source": [
    "m.eigenvals()"
   ]
  },
  {
   "cell_type": "code",
   "execution_count": null,
   "metadata": {},
   "outputs": [],
   "source": []
  }
 ],
 "metadata": {
  "kernelspec": {
   "display_name": "Python 3",
   "language": "python",
   "name": "python3"
  }
 },
 "nbformat": 4,
 "nbformat_minor": 4
}
