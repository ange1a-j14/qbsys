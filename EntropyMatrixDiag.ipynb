{
 "cells": [
  {
   "cell_type": "code",
   "execution_count": 1,
   "metadata": {},
   "outputs": [],
   "source": [
    "import numpy as np\n",
    "from numpy.random import default_rng\n",
    "import math\n",
    "from math import ceil, log\n",
    "from numpy import e\n",
    "from mpl_toolkits import mplot3d\n",
    "import matplotlib.pyplot as plt\n",
    "from matplotlib import cm\n",
    "from matplotlib.ticker import LinearLocator\n",
    "from sklearn import preprocessing"
   ]
  },
  {
   "cell_type": "code",
   "execution_count": 2,
   "metadata": {},
   "outputs": [],
   "source": [
    "def psi1(t, c1, c2, c3, c4, epsilon, delta, chi):\n",
    "    return c1*epsilon*e**(-t*squareroot(epsilon, delta, chi)/2)/(delta + 2*chi) + \\\n",
    "    c2*epsilon*t*e**(-t*squareroot(epsilon, delta, chi)/2)/(delta + 2*chi) + \\\n",
    "    c2*squareroot(epsilon, delta, chi)*e**(-t*squareroot(epsilon, delta, chi)/2)/(delta + 2*chi) + \\\n",
    "    c3*epsilon*e**(t*squareroot(epsilon, delta, chi)/2)/(delta + 2*chi) + \\\n",
    "    c4*epsilon*t*e**(t*squareroot(epsilon, delta, chi)/2)/(delta + 2*chi) + \\\n",
    "    c4*(delta**2 + 2*delta*chi + epsilon**2)*e**(t*squareroot(epsilon, delta, chi)/2) \\\n",
    "    /((delta + 2*chi)*squareroot(epsilon, delta, chi))\n",
    "    \n",
    "def psi2(t, c1, c2, c3, c4, epsilon, delta, chi):\n",
    "    return -c1*squareroot(epsilon, delta, chi)*e**(-t*squareroot(epsilon, delta, chi)/2)/(delta + 2*chi) + \\\n",
    "    c2*epsilon*e**(-t*squareroot(epsilon, delta, chi)/2)/(delta + 2*chi) - \\\n",
    "    c2*t*squareroot(epsilon, delta, chi)*e**(-t*squareroot(epsilon, delta, chi)/2)/(delta + 2*chi) + \\\n",
    "    c3*squareroot(epsilon, delta, chi)*e**(t*squareroot(epsilon, delta, chi)/2)/(delta + 2*chi) + \\\n",
    "    c4*epsilon*e**(t*squareroot(epsilon, delta, chi)/2)/(delta + 2*chi) + \\\n",
    "    c4*t*squareroot(epsilon, delta, chi)*e**(t*squareroot(epsilon, delta, chi)/2)/(delta + 2*chi)\n",
    "    \n",
    "def phi1(t, c1, c2, c3, c4, epsilon, delta, chi):\n",
    "    return c1*e**(-t*squareroot(epsilon, delta, chi)/2) + \\\n",
    "    c2*t*e**(-t*squareroot(epsilon, delta, chi)/2) + \\\n",
    "    c3*e**(t*squareroot(epsilon, delta, chi)/2) + \\\n",
    "    c4*t*e**(t*squareroot(epsilon, delta, chi)/2)\n",
    "\n",
    "def phi2(t, c2, c4, epsilon, delta, chi):\n",
    "    return c2*e**(-t*squareroot(epsilon, delta, chi)/2) + \\\n",
    "    c4*e**(t*squareroot(epsilon, delta, chi)/2)\n",
    "\n",
    "def check_sqrt(epsilon, delta, chi):\n",
    "    return -delta**2 - 2*delta*chi - epsilon**2 < 0\n",
    "\n",
    "def squareroot(epsilon, delta, chi):\n",
    "    result = -delta**2 - 2*delta*chi - epsilon**2\n",
    "    return math.sqrt(result)\n",
    "\n",
    "def func(xp):\n",
    "    return ((abs(psi1(xp[0], xp[1], xp[2], xp[3], xp[4], xp[5], xp[6], xp[7])))**2 + \\\n",
    "            (abs(psi2(xp[0], xp[1], xp[2], xp[3], xp[4], xp[5], xp[6], xp[7])))**2 + \\\n",
    "            (abs(phi1(xp[0], xp[1], xp[2], xp[3], xp[4], xp[5], xp[6], xp[7])))**2 + \\\n",
    "            (abs(phi2(xp[0], xp[2], xp[4], xp[5], xp[6], xp[7])))**2)"
   ]
  },
  {
   "cell_type": "code",
   "execution_count": 3,
   "metadata": {},
   "outputs": [],
   "source": [
    "def normalize_func(xp):\n",
    "    psi_squared = (abs(psi1(xp[0], xp[1], xp[2], xp[3], xp[4], xp[5], xp[6], xp[7])))**2 + \\\n",
    "            (abs(psi2(xp[0], xp[1], xp[2], xp[3], xp[4], xp[5], xp[6], xp[7])))**2\n",
    "    phi_squared = (abs(phi1(xp[0], xp[1], xp[2], xp[3], xp[4], xp[5], xp[6], xp[7])))**2 + \\\n",
    "            (abs(phi2(xp[0], xp[2], xp[4], xp[5], xp[6], xp[7])))**2\n",
    "    return [psi_squared**2/(psi_squared**2+phi_squared**2), phi_squared**2/(psi_squared**2+phi_squared**2)]"
   ]
  },
  {
   "cell_type": "code",
   "execution_count": 12,
   "metadata": {},
   "outputs": [],
   "source": [
    "def a(xp):\n",
    "    psi1p = psi1(xp[0], xp[1], xp[2], xp[3], xp[4], xp[5], xp[6], xp[7])\n",
    "    psi2p = psi2(xp[0], xp[1], xp[2], xp[3], xp[4], xp[5], xp[6], xp[7])\n",
    "    psi_squared = (abs(psi1p))**2 + (abs(psi2p))**2\n",
    "    second_half = psi2p*np.conj(psi1p) - psi1p*np.conj(psi2p)\n",
    "    return complex(psi_squared, second_half)\n",
    "\n",
    "def b(xp):\n",
    "    psi1p = psi1(xp[0], xp[1], xp[2], xp[3], xp[4], xp[5], xp[6], xp[7])\n",
    "    psi2p = psi2(xp[0], xp[1], xp[2], xp[3], xp[4], xp[5], xp[6], xp[7])\n",
    "    phi1p = phi1(xp[0], xp[1], xp[2], xp[3], xp[4], xp[5], xp[6], xp[7])\n",
    "    phi2p = phi2(xp[0], xp[2], xp[4], xp[5], xp[6], xp[7])\n",
    "    first_half = psi1p*np.conj(phi1p) + psi2p*np.conj(phi2p)\n",
    "    second_half = psi2p*np.conj(phi1p) - psi1p*np.conj(phi2p)\n",
    "    return complex(first_half, second_half)\n",
    "\n",
    "def c(xp):\n",
    "    psi1p = psi1(xp[0], xp[1], xp[2], xp[3], xp[4], xp[5], xp[6], xp[7])\n",
    "    psi2p = psi2(xp[0], xp[1], xp[2], xp[3], xp[4], xp[5], xp[6], xp[7])\n",
    "    phi1p = phi1(xp[0], xp[1], xp[2], xp[3], xp[4], xp[5], xp[6], xp[7])\n",
    "    phi2p = phi2(xp[0], xp[2], xp[4], xp[5], xp[6], xp[7])\n",
    "    first_half = phi1p*np.conj(psi1p) + phi2p*np.conj(psi2p)\n",
    "    second_half = phi2p*np.conj(psi1p) - phi1p*np.conj(psi2p)\n",
    "    return complex(first_half, second_half)\n",
    "\n",
    "def d(xp):\n",
    "    phi1p = phi1(xp[0], xp[1], xp[2], xp[3], xp[4], xp[5], xp[6], xp[7])\n",
    "    phi2p = phi2(xp[0], xp[2], xp[4], xp[5], xp[6], xp[7])\n",
    "    phi_squared = (abs(phi1p))**2 + (abs(phi2p))**2\n",
    "    second_half = phi2p*np.conj(phi1p) - phi1p*np.conj(phi2p)\n",
    "    return complex(phi_squared, second_half)"
   ]
  },
  {
   "cell_type": "code",
   "execution_count": 15,
   "metadata": {},
   "outputs": [],
   "source": [
    "x = [0, -8.042455772869037, 0.4104156269769683, 0.7626971134550099, 0.12854464458518508, 0.7365235537491663, 0.5104429911912247, -0.8622287451860423]\n",
    "\n",
    "arr = np.array([[a(x), b(x)], [c(x), d(x)]])\n",
    "\n"
   ]
  },
  {
   "cell_type": "code",
   "execution_count": 16,
   "metadata": {},
   "outputs": [
    {
     "data": {
      "text/plain": [
       "(array([5.02542450e-15+2.59996203e-15j, 7.77122319e+01-2.59996203e-15j]),\n",
       " array([[ 0.82805518+0.j        , -0.51194957+0.22854377j],\n",
       "        [ 0.51194957+0.22854377j,  0.82805518+0.j        ]]))"
      ]
     },
     "execution_count": 16,
     "metadata": {},
     "output_type": "execute_result"
    }
   ],
   "source": [
    "np.linalg.eig(arr)"
   ]
  },
  {
   "cell_type": "code",
   "execution_count": null,
   "metadata": {},
   "outputs": [],
   "source": []
  }
 ],
 "metadata": {
  "kernelspec": {
   "display_name": "Python 3",
   "language": "python",
   "name": "python3"
  },
  "language_info": {
   "codemirror_mode": {
    "name": "ipython",
    "version": 3
   },
   "file_extension": ".py",
   "mimetype": "text/x-python",
   "name": "python",
   "nbconvert_exporter": "python",
   "pygments_lexer": "ipython3",
   "version": "3.7.6"
  }
 },
 "nbformat": 4,
 "nbformat_minor": 4
}
