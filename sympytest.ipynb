{
 "cells": [
  {
   "cell_type": "code",
   "execution_count": 11,
   "metadata": {},
   "outputs": [],
   "source": [
    "from sympy import Function, dsolve, Eq, Derivative, sin, cos, symbols, init_session\n",
    "from sympy.abc import x\n",
    "from sympy.printing.latex import LatexPrinter, print_latex"
   ]
  },
  {
   "cell_type": "code",
   "execution_count": 3,
   "metadata": {},
   "outputs": [],
   "source": [
    "f = Function('f')"
   ]
  },
  {
   "cell_type": "code",
   "execution_count": 4,
   "metadata": {},
   "outputs": [
    {
     "data": {
      "text/latex": [
       "$\\displaystyle f{\\left(x \\right)} = C_{1} \\sin{\\left(3 x \\right)} + C_{2} \\cos{\\left(3 x \\right)}$"
      ],
      "text/plain": [
       "Eq(f(x), C1*sin(3*x) + C2*cos(3*x))"
      ]
     },
     "execution_count": 4,
     "metadata": {},
     "output_type": "execute_result"
    }
   ],
   "source": [
    "dsolve(Derivative(f(x), x, x) + 9*f(x), f(x))"
   ]
  },
  {
   "cell_type": "code",
   "execution_count": 12,
   "metadata": {},
   "outputs": [
    {
     "name": "stdout",
     "output_type": "stream",
     "text": [
      "\\sin{\\left(x \\right)} \\cos{\\left(f{\\left(x \\right)} \\right)} + \\sin{\\left(f{\\left(x \\right)} \\right)} \\cos{\\left(x \\right)} \\frac{d}{d x} f{\\left(x \\right)}\n"
     ]
    }
   ],
   "source": [
    "eq = sin(x)*cos(f(x)) + cos(x)*sin(f(x))*f(x).diff(x)\n",
    "dsolve(eq, hint='1st_exact')\n",
    "dsolve(eq, hint='almost_linear')\n",
    "print_latex(eq)"
   ]
  },
  {
   "cell_type": "code",
   "execution_count": 15,
   "metadata": {},
   "outputs": [
    {
     "name": "stdout",
     "output_type": "stream",
     "text": [
      "[Eq(x(t), C1*x0(t) + C2*x0(t)*Integral(8*exp(Integral(7*t, t))*exp(Integral(12*t, t))/x0(t)**2, t)), Eq(y(t), C1*y0(t) + C2*(y0(t)*Integral(8*exp(Integral(7*t, t))*exp(Integral(12*t, t))/x0(t)**2, t) + exp(Integral(7*t, t))*exp(Integral(12*t, t))/x0(t)))]\n",
      "\\left[ x{\\left(t \\right)} = C_{1} \\operatorname{x_{0}}{\\left(t \\right)} + C_{2} \\operatorname{x_{0}}{\\left(t \\right)} \\int \\frac{8 \\left(e^{\\int 7 t\\, dt}\\right) e^{\\int 12 t\\, dt}}{\\operatorname{x_{0}}^{2}{\\left(t \\right)}}\\, dt, \\  y{\\left(t \\right)} = C_{1} \\operatorname{y_{0}}{\\left(t \\right)} + C_{2} \\left(\\operatorname{y_{0}}{\\left(t \\right)} \\int \\frac{8 \\left(e^{\\int 7 t\\, dt}\\right) e^{\\int 12 t\\, dt}}{\\operatorname{x_{0}}^{2}{\\left(t \\right)}}\\, dt + \\frac{\\left(e^{\\int 7 t\\, dt}\\right) e^{\\int 12 t\\, dt}}{\\operatorname{x_{0}}{\\left(t \\right)}}\\right)\\right]\n"
     ]
    }
   ],
   "source": [
    "t = symbols('t')\n",
    "x, y = symbols('x, y', cls=Function)\n",
    "eq = (Eq(Derivative(x(t),t), 12*t*x(t) + 8*y(t)), Eq(Derivative(y(t),t), 21*x(t) + 7*t*y(t)))\n",
    "printeq = dsolve(eq)\n",
    "print(printeq)\n",
    "print_latex(printeq)"
   ]
  },
  {
   "cell_type": "code",
   "execution_count": null,
   "metadata": {},
   "outputs": [],
   "source": []
  }
 ],
 "metadata": {
  "kernelspec": {
   "display_name": "Python 3",
   "language": "python",
   "name": "python3"
  },
  "language_info": {
   "codemirror_mode": {
    "name": "ipython",
    "version": 3
   },
   "file_extension": ".py",
   "mimetype": "text/x-python",
   "name": "python",
   "nbconvert_exporter": "python",
   "pygments_lexer": "ipython3",
   "version": "3.7.6"
  }
 },
 "nbformat": 4,
 "nbformat_minor": 4
}
